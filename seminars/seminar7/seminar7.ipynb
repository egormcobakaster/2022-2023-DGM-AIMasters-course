{
 "cells": [
  {
   "cell_type": "code",
   "execution_count": 1,
   "id": "84a8d2c1-d45e-4686-a503-ed3b7a54af02",
   "metadata": {
    "slideshow": {
     "slide_type": "skip"
    }
   },
   "outputs": [],
   "source": [
    "%load_ext autoreload\n",
    "%autoreload 2"
   ]
  },
  {
   "cell_type": "code",
   "execution_count": 2,
   "id": "union-alert",
   "metadata": {
    "slideshow": {
     "slide_type": "skip"
    }
   },
   "outputs": [],
   "source": [
    "import numpy as np\n",
    "import matplotlib.pyplot as plt\n",
    "from PIL import Image\n",
    "import io\n",
    "import itertools\n",
    "import time\n",
    "from IPython.display import clear_output\n",
    "\n",
    "from sklearn.decomposition import PCA\n",
    "import scipy\n",
    "\n",
    "import torch\n",
    "import torch.optim as optim\n",
    "import torch.nn as nn\n",
    "import torch.utils.data as data\n",
    "import torch.nn.functional as F\n",
    "import torch.distributions as TD\n",
    "from torchvision.utils import make_grid\n",
    "from torchvision import transforms\n",
    "\n",
    "import pickle\n",
    "import os\n",
    "import sys\n",
    "sys.path.append('../../homeworks') # to grab dgm_utils from ../../homeworks directory\n",
    "from tqdm.notebook import tqdm\n",
    "from scipy.stats import multivariate_normal\n",
    "\n",
    "\n",
    "# for IWAE\n",
    "from scipy.stats import multivariate_normal\n",
    "from matplotlib import ticker, cm\n",
    "from matplotlib import gridspec\n",
    "from matplotlib import collections  as mplc\n",
    "from scipy.special import logsumexp\n",
    "# end for IWAE\n",
    "\n",
    "if torch.cuda.is_available():\n",
    "    DEVICE = 'cuda'\n",
    "    GPU_DEVICE = 1\n",
    "    torch.cuda.set_device(GPU_DEVICE)\n",
    "else:\n",
    "    DEVICE='cpu'\n",
    "# DEVICE='cpu'\n",
    "\n",
    "import warnings\n",
    "warnings.filterwarnings('ignore')\n",
    "\n",
    "# <span style=\"color:red\"> No! </span>\n",
    "\n",
    "# dgm_utils\n",
    "from dgm_utils import train_model, plot_training_curves, show_samples\n",
    "from dgm_utils import visualize_2d_samples, visualize_2d_densities, visualize_2d_data\n",
    "# from seminar6_utils import visualize_2d_map, visualize_samples_pdf"
   ]
  },
  {
   "cell_type": "markdown",
   "id": "amber-humidity",
   "metadata": {
    "slideshow": {
     "slide_type": "slide"
    }
   },
   "source": [
    "# <center>Deep Generative Models</center>\n",
    "## <center>Seminar 7</center>\n",
    "\n",
    "<center><img src=\"pics/AIMastersLogo.png\" width=600 /></center>\n",
    "<center>24.10.2022</center>\n"
   ]
  },
  {
   "cell_type": "markdown",
   "id": "883dc37a",
   "metadata": {
    "slideshow": {
     "slide_type": "slide"
    }
   },
   "source": [
    "## Plan\n",
    "\n",
    "1. RealNVP implementation hints\n",
    "    \n",
    "    - RealNVP on 2D data\n",
    "    \n",
    "    - RealNVP for image data"
   ]
  },
  {
   "cell_type": "markdown",
   "id": "7ce046dd-7520-4316-8caf-555b144d643e",
   "metadata": {},
   "source": [
    "## RealNVP"
   ]
  },
  {
   "cell_type": "markdown",
   "id": "4f51821c-0274-4945-9117-e4dab8c5ea60",
   "metadata": {},
   "source": [
    "<center><img src=\"pics/flows_how2.png\" width=800 /></center>\n",
    "\n"
   ]
  },
  {
   "cell_type": "markdown",
   "id": "7ba0e633-d91c-48a5-9691-ceb621db3617",
   "metadata": {},
   "source": [
    "* $f = f_{K} \\circ f_{K - 1} \\circ \\dots \\circ f_1$. $f_{k}$ is a **RealNVP** coupling layer.\n",
    "\n",
    "* $f^{-1} = g = g_1 \\circ g_2 \\circ \\dots \\circ g_{K}$. $g_{k} = f_{k}{-1}$ are easilty deduced from the $f_k$. "
   ]
  },
  {
   "cell_type": "markdown",
   "id": "9bc69c06-1bf5-4ad3-9cc6-204352b1e583",
   "metadata": {},
   "source": [
    "### $f_k$ and $g_k$"
   ]
  },
  {
   "cell_type": "markdown",
   "id": "98ee1c32-24d7-4c1d-b11c-500b7175e130",
   "metadata": {},
   "source": [
    "<center><img src=\"pics/RealNVPblock.png\" width=800 /></center>\n",
    "\n",
    "**Question** How to model $\\boldsymbol{\\sigma}(\\cdot, \\theta)$ and $\\boldsymbol{\\mu}(\\cdot, \\theta)$ in $2D$ data case?"
   ]
  },
  {
   "cell_type": "markdown",
   "id": "678db44a-bf90-43eb-a06f-e0424d9b009c",
   "metadata": {},
   "source": [
    "Partial answer:)\n",
    "\n",
    "```python\n",
    "# x : tensor (bs, 2) \n",
    "\n",
    "x_1 = x * mask # tensor (bs, 2), mask is [0, 1] or [1, 0]\n",
    "mu, log_sigma = NN(x_1).split # tensors (bs, 1), (bs, 1)\n",
    "\n",
    "```"
   ]
  },
  {
   "cell_type": "markdown",
   "id": "f7edb22c-4a24-4904-9833-83e2ed18c1cb",
   "metadata": {},
   "source": [
    "**Question** What is the `mask` shape?"
   ]
  },
  {
   "cell_type": "markdown",
   "id": "3c3604a3-98ee-4c42-9bca-c41c1dbbc189",
   "metadata": {},
   "source": [
    "### Jacobian"
   ]
  },
  {
   "cell_type": "markdown",
   "id": "fcc1e005-c949-4730-93b7-01ed62b0e15b",
   "metadata": {},
   "source": [
    "$$ \\log\\det \\left(\\frac{\\partial \\boldsymbol{z}}{\\partial \\boldsymbol{x}}\\right) = \\log\\det \\begin{bmatrix}\\mathbf{I}_d & 0_{d \\times m - d}\\\\ \\frac{\\partial \\boldsymbol{z}_2}{\\partial \\boldsymbol{x}_1} & \\frac{\\partial \\boldsymbol{z}_2}{\\partial \\boldsymbol{x}_2} \\end{bmatrix} =\\\\= \\text{sum } [ \\underbrace{0, 0, \\dots 0}_{d \\text{ times}} ,  \\log \\frac{\\partial z_{d + 1}}{\\partial x_{d + 1}}, \\dots , \\log \\frac{\\partial z_{m}}{\\partial x_{m}}] = ?$$\n",
    "\n",
    "**Question** What is RealNVP block input and output?"
   ]
  },
  {
   "cell_type": "markdown",
   "id": "d3202216-a3cf-4742-9740-fb8e8387ce3d",
   "metadata": {},
   "source": [
    "```python\n",
    "# x : tensor (bs, 2) \n",
    "\n",
    "z, log_det = RealNVPBlock(x) # tensors (bs, 2), (bs, 2)\n",
    "```\n",
    "\n",
    "* `log_det` is the batch of vectors $[\\log \\frac{\\partial z_{1}}{\\partial x_{1}}, \\log \\frac{\\partial z_{2}}{\\partial x_{2}}]$"
   ]
  },
  {
   "cell_type": "markdown",
   "id": "e0538d14-347f-48df-80a1-ecf64e22ae9f",
   "metadata": {},
   "source": [
    "**Question** How to train RealNVP model?"
   ]
  },
  {
   "cell_type": "markdown",
   "id": "48fffa22-28fa-4778-b169-32a3c64b8db9",
   "metadata": {},
   "source": [
    "Use **ForwardKL** in the data $X$-space (or **ReverseKL** in the latent $Z$-space which is equivalent). Objective:\n",
    "\n",
    "$$-E_{\\pi(x)} \\left(\\log p_z(f(x, \\theta)) + \\log | \\det J_f|\\right)$$\n",
    "\n",
    "Recall the *Seminar 6* for the details"
   ]
  },
  {
   "cell_type": "markdown",
   "id": "f0ef90cf-dfdd-4a9c-ab31-3f0e9131b95d",
   "metadata": {},
   "source": [
    "**Question** How to split data vector $\\boldsymbol{x}$ onto $[\\boldsymbol{x}_1, \\boldsymbol{x}_2]$ when $\\boldsymbol{x}$ is an image?"
   ]
  },
  {
   "cell_type": "markdown",
   "id": "18f59def-686c-482b-802c-3ed68635b227",
   "metadata": {},
   "source": [
    "### RealNVP block for image data case"
   ]
  },
  {
   "cell_type": "markdown",
   "id": "0429e0f2-660d-4452-88ea-188bdd6e2c67",
   "metadata": {},
   "source": [
    "The splitting schemes were proposed in the original RealNVP [article](https://arxiv.org/pdf/1605.08803.pdf).\n",
    "\n",
    "<center><img src=\"pics/image_splitting_realnvp.png\" width=800 /></center>"
   ]
  },
  {
   "cell_type": "markdown",
   "id": "0b6c9595-e3e4-4d88-bdb8-93f9816a80ad",
   "metadata": {},
   "source": [
    "### `CheckerboardCouplingLayer`\n",
    "\n",
    "<center><img src=\"pics/checkerboard_splitting.png\" width=400 /></center>\n",
    "\n",
    "**Question** Let input $\\boldsymbol{x}$ has shape `(bs, c, w, h)`. What is the output of the network which produces $\\boldsymbol{\\mu}, \\boldsymbol{\\log \\sigma}$? What is the output of `CheckerboardCouplingLayer` (what tensors and of which shape)?"
   ]
  },
  {
   "cell_type": "markdown",
   "id": "95f5f5f4-b620-4928-8b3e-7b483958b085",
   "metadata": {},
   "source": [
    "### `ChannelCouplingLayer`\n",
    "\n",
    "<center><img src=\"pics/channelwise_splitting.png\" width=400 /></center>\n",
    "\n",
    "**Question** Do we need to mask the input tensor $\\boldsymbol{x}$ in order to get $\\boldsymbol{x}_1$?\n",
    "\n",
    "**Question** Let input $\\boldsymbol{x}$ has shape `(bs, 2 * c, w, h)`. What is the output of the network which produces $\\boldsymbol{\\mu}, \\boldsymbol{\\log \\sigma}$? What is the output of `ChannelCouplingLayer` (what tensors and of which shape)?"
   ]
  },
  {
   "cell_type": "markdown",
   "id": "837bb1c6-8575-49ec-9d16-e524468bbdf6",
   "metadata": {},
   "source": [
    "### `squeeze` and `undo_squeeze` operations"
   ]
  },
  {
   "cell_type": "markdown",
   "id": "3842b8fa-89be-45eb-a747-e1fd9796355c",
   "metadata": {},
   "source": [
    "<center><img src=\"pics/squeezing.png\" width=600 /></center>\n",
    "\n",
    "**Question** Let input $\\boldsymbol{x}$ has shape `(bs, c, w, h)`. Output of the tensor under `squeeze` operation?"
   ]
  },
  {
   "cell_type": "markdown",
   "id": "756e8f94-1bc0-4178-a37b-d05282ed66a8",
   "metadata": {},
   "source": [
    "**Expected ordering of Coupling layers**"
   ]
  },
  {
   "cell_type": "markdown",
   "id": "3c223578-9a60-430c-b209-4a0f70334bf8",
   "metadata": {},
   "source": [
    "\n",
    "```python\n",
    "#input: (bs, 1, w, h)\n",
    "CheckerboardCouplingLayer(\"even\"),\n",
    "CheckerboardCouplingLayer(\"odd\"),\n",
    "CheckerboardCouplingLayer(\"even\"),\n",
    "CheckerboardCouplingLayer(\"odd\"),\n",
    "# squeeze the tensor: (bs, 1, w, h) -> (bs, 4, w/2, h/2)\n",
    "squeeze()\n",
    "ChannelCouplingLayer(\"top\")\n",
    "ChannelCouplingLayer(\"bottom\")\n",
    "ChannelCouplingLayer(\"top\")\n",
    "ChannelCouplingLayer(\"bottom\")\n",
    "# unsqueeze the tensor: (bs, 4, w/2, h/2) -> (bs, 1, w, h)\n",
    "CheckerboardCouplingLayer(\"even\"),\n",
    "CheckerboardCouplingLayer(\"odd\"),\n",
    "CheckerboardCouplingLayer(\"even\"),\n",
    "CheckerboardCouplingLayer(\"odd\")\n",
    "```"
   ]
  }
 ],
 "metadata": {
  "celltoolbar": "Слайд-шоу",
  "kernelspec": {
   "display_name": "Python 3 (ipykernel)",
   "language": "python",
   "name": "python3"
  },
  "language_info": {
   "codemirror_mode": {
    "name": "ipython",
    "version": 3
   },
   "file_extension": ".py",
   "mimetype": "text/x-python",
   "name": "python",
   "nbconvert_exporter": "python",
   "pygments_lexer": "ipython3",
   "version": "3.8.12"
  },
  "rise": {
   "theme": "sky"
  },
  "toc-autonumbering": false,
  "toc-showcode": false
 },
 "nbformat": 4,
 "nbformat_minor": 5
}
