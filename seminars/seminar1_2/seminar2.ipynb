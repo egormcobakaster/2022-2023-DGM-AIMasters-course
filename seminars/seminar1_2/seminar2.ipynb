{
 "cells": [
  {
   "cell_type": "code",
   "execution_count": 4,
   "id": "union-alert",
   "metadata": {
    "slideshow": {
     "slide_type": "skip"
    }
   },
   "outputs": [],
   "source": [
    "import numpy as np\n",
    "import matplotlib.pyplot as plt\n",
    "from PIL import Image\n",
    "import io\n",
    "import itertools\n",
    "\n",
    "\n",
    "import torch\n",
    "import torch.nn as nn\n",
    "import torch.nn.functional as F\n",
    "\n",
    "import warnings\n",
    "warnings.filterwarnings('ignore')"
   ]
  },
  {
   "cell_type": "markdown",
   "id": "amber-humidity",
   "metadata": {
    "slideshow": {
     "slide_type": "slide"
    }
   },
   "source": [
    "# <center>Deep Generative Models</center>\n",
    "## <center>Seminar 2</center>\n",
    "\n",
    "<center><img src=\"pics/AIMastersLogo.png\" width=600 /></center>\n",
    "<center>19.09.2022</center>\n"
   ]
  },
  {
   "cell_type": "markdown",
   "id": "cardiac-shame",
   "metadata": {
    "slideshow": {
     "slide_type": "slide"
    }
   },
   "source": [
    "### Petr Mokrov\n",
    "\n",
    "\n",
    "tg: https://t.me/PVMokrov\n",
    "\n",
    "e-mail: mokrov.pv@phystech.edu"
   ]
  },
  {
   "cell_type": "markdown",
   "id": "virgin-offer",
   "metadata": {
    "slideshow": {
     "slide_type": "slide"
    }
   },
   "source": [
    "## Plan\n",
    "\n",
    "- Autoregressive models. MADE\n",
    "- Masked Linear Layer\n",
    "- MADE implementation\n",
    "- CharCNN hints"
   ]
  },
  {
   "cell_type": "markdown",
   "id": "12044216-f181-4cca-87c9-82617535ee77",
   "metadata": {},
   "source": [
    "### The distribution we will work with"
   ]
  },
  {
   "cell_type": "code",
   "execution_count": 5,
   "id": "optimum-manual",
   "metadata": {
    "slideshow": {
     "slide_type": "fragment"
    }
   },
   "outputs": [],
   "source": [
    "def generate_2d_data(count, bins, height_coefficient=1.0):\n",
    "    h_bins = int(bins * height_coefficient)\n",
    "    w_bins = int(bins)\n",
    "    # Загружаем картинку, сжимаем к размеру (w_bins x h_bins),\n",
    "    # конвертируем к grayscale - формату\n",
    "    im = Image.open('pics/2d_distribution.png').resize((w_bins, h_bins)).convert('L')\n",
    "    im = np.array(im).astype('float32')\n",
    "    # Сейчас im : np.array размера (64, 64), \n",
    "    # элементы этого массива выглядят так:\n",
    "    # \n",
    "    # array([[12., 12., 13., ...,  6.,  6.,  4.],\n",
    "    #        [11., 13., 15., ...,  7.,  6.,  6.],\n",
    "    #        [14., 16., 18., ...,  7.,  7.,  6.],\n",
    "    #        ...,\n",
    "    #        [24., 21., 25., ..., 31., 31., 24.],\n",
    "    #        [18., 21., 21., ..., 26., 26., 23.],\n",
    "    #        [17., 18., 20., ..., 28., 21., 19.]], dtype=float32)\n",
    "\n",
    "    # Здесь мы получаем двумерное категориальное распределение, \n",
    "    # с числом параметров 64 * 64\n",
    "    # КОТОРОЕ МЫ И ХОТИМ ПРИБЛИЗИТЬ НАШЕЙ МОДЕЛЬЮ\n",
    "    dist = im / im.sum()\n",
    "\n",
    "    # pairs перечисляет все возможные пиксели\n",
    "    # pairs = [(0, 0), (0, 1), ... (h_bins-1, w_bins-2), (h_bins-1, w_bins-1)]\n",
    "    pairs = list(itertools.product(range(h_bins), range(w_bins)))\n",
    "    # выбираем count пикселей в соответствии с вероятностями из dist\n",
    "    idxs = np.random.choice(len(pairs), size=count, replace=True, p=dist.reshape(-1))\n",
    "    samples = np.array([pairs[i] for i in idxs])\n",
    "\n",
    "    split = int(0.8 * len(samples))\n",
    "    return dist, samples[:split], samples[split:]"
   ]
  },
  {
   "cell_type": "code",
   "execution_count": 6,
   "id": "veterinary-alloy",
   "metadata": {
    "slideshow": {
     "slide_type": "fragment"
    }
   },
   "outputs": [],
   "source": [
    "def plot_2d_data(train_data, test_data, bins, height_coefficient=1.0):\n",
    "    h_bins = int(bins * height_coefficient)\n",
    "    w_bins = int(bins)\n",
    "    train_dist, test_dist = np.zeros((h_bins, w_bins)), np.zeros((h_bins, w_bins))\n",
    "    for i in range(len(train_data)):\n",
    "        train_dist[train_data[i][0], train_data[i][1]] += 1\n",
    "    train_dist /= train_dist.sum()\n",
    "\n",
    "    for i in range(len(test_data)):\n",
    "        test_dist[test_data[i][0], test_data[i][1]] += 1\n",
    "    test_dist /= test_dist.sum()\n",
    "\n",
    "    fig, (ax1, ax2) = plt.subplots(1, 2, figsize=(10, 6))\n",
    "    ax1.set_title('Train Data')\n",
    "    ax1.imshow(train_dist, cmap='gray')\n",
    "    ax1.axis('off')\n",
    "    ax1.set_xlabel('x1')\n",
    "    ax1.set_ylabel('x0')\n",
    "\n",
    "    ax2.set_title('Test Data')\n",
    "    ax2.imshow(test_dist, cmap='gray')\n",
    "    ax2.axis('off')\n",
    "    ax2.set_xlabel('x1')\n",
    "    ax2.set_ylabel('x0')\n",
    "\n",
    "    plt.show()"
   ]
  },
  {
   "cell_type": "code",
   "execution_count": 7,
   "id": "answering-biology",
   "metadata": {
    "slideshow": {
     "slide_type": "slide"
    }
   },
   "outputs": [
    {
     "data": {
      "image/png": "[encoded data removed]",
      "text/plain": [
       "<Figure size 720x432 with 2 Axes>"
      ]
     },
     "metadata": {
      "needs_background": "light"
     },
     "output_type": "display_data"
    }
   ],
   "source": [
    "COUNT = 500000\n",
    "BINS = 64\n",
    "\n",
    "image, train_data, test_data = generate_2d_data(COUNT, BINS)\n",
    "plot_2d_data(train_data, test_data, BINS)"
   ]
  },
  {
   "cell_type": "markdown",
   "id": "b2750275",
   "metadata": {
    "slideshow": {
     "slide_type": "slide"
    }
   },
   "source": [
    "## Autoregressive models\n",
    "\n",
    "Let $\\boldsymbol{x} \\sim p(\\boldsymbol{x} | \\theta) \\, , \\, \\boldsymbol{x} \\in \\mathbf{R}^d$\n",
    "\n",
    "**Likelihood factorization**: $\\log p(\\boldsymbol{x} | \\theta) = \\sum\\limits_{j = 1}^d \\log p\\left( x_i | \\boldsymbol{x}_{1:j-1} , \\theta\\right)$\n",
    "\n",
    "**Sampling procedure**:\n",
    "\n",
    "* Sample $\\hat{x}_1 \\sim p(x_1 | \\theta)$\n",
    "\n",
    "* Sample $\\hat{x}_2 \\sim p(x_2 | \\hat{x}_1 \\theta)$\n",
    "\n",
    "* ...\n",
    "\n",
    "* Sample $\\hat{x}_d \\sim p(x_d | \\hat{\\boldsymbol{x}}_{1:d-1} , \\theta)$\n"
   ]
  },
  {
   "cell_type": "markdown",
   "id": "a438bc39",
   "metadata": {
    "slideshow": {
     "slide_type": "slide"
    }
   },
   "source": [
    "## Autoregressive models\n",
    "\n",
    "**Question.** How to impose autoregressive properties in a simple autoencoder model?\n",
    "\n",
    "<center><img src=\"pics/autoencoder.png\" width=300/></center>"
   ]
  },
  {
   "cell_type": "markdown",
   "id": "neural-aspect",
   "metadata": {
    "slideshow": {
     "slide_type": "slide"
    }
   },
   "source": [
    "## MADE\n",
    "\n",
    "Original article: [link](https://arxiv.org/pdf/1502.03509.pdf)\n",
    "\n",
    "<img src=\"pics/made.png\" width=800 height=600 />"
   ]
  },
  {
   "cell_type": "markdown",
   "id": "3e409b0b",
   "metadata": {
    "slideshow": {
     "slide_type": "fragment"
    }
   },
   "source": [
    "**Masks generation procedure**\n",
    "\n",
    "* Define the ordering of input elements from $1$ to $d$\n",
    "\n",
    "* Assign a random number $k$ from $1$ to $d - 1$ to each hidden unit. The number $k$ gives the maximum number of input units to which the unit under consideration can be connected.\n",
    "\n",
    "* *(For hidden layer)* Connect each hidden unit with number $k$ with the previous layer units which have the number **less or equal** than $k$\n",
    "\n",
    "* *(For output layer)* Connect each output unit with number $k$ with the previous layer units which have the number **less** than $k$"
   ]
  },
  {
   "cell_type": "markdown",
   "id": "5d60ecf3",
   "metadata": {
    "slideshow": {
     "slide_type": "fragment"
    }
   },
   "source": [
    "**Question.** How to implement the masking of linear layers?"
   ]
  },
  {
   "cell_type": "code",
   "execution_count": 8,
   "id": "b30a8bfb",
   "metadata": {
    "slideshow": {
     "slide_type": "fragment"
    }
   },
   "outputs": [],
   "source": [
    "class MaskedLinear(torch.nn.Linear):\n",
    "    \n",
    "    \n",
    "    def __init__(self, in_features, out_features):\n",
    "        super().__init__(in_features, out_features)\n",
    "        self.register_buffer('mask', torch.ones(out_features, in_features))\n",
    "\n",
    "    def set_mask(self, mask):\n",
    "        self.mask.data.copy_(torch.from_numpy(mask.astype(np.uint8).T))\n",
    "\n",
    "    def forward(self, input):\n",
    "         \n",
    "        return torch.nn.functional.linear(input, self.mask * self.weight, self.bias)"
   ]
  },
  {
   "cell_type": "markdown",
   "id": "407ae4a6",
   "metadata": {
    "slideshow": {
     "slide_type": "fragment"
    }
   },
   "source": [
    "**Question** Why do we need `register_buffer` function? What is the difference between `register_buffer` and `register_parameter`?"
   ]
  },
  {
   "cell_type": "code",
   "execution_count": 9,
   "id": "eabbadb8",
   "metadata": {
    "slideshow": {
     "slide_type": "fragment"
    }
   },
   "outputs": [
    {
     "name": "stdout",
     "output_type": "stream",
     "text": [
      "state dict keys:  odict_keys(['weight', 'bias', 'mask'])\n",
      "number of state dict elems:  3\n",
      "number of params:  2\n"
     ]
    }
   ],
   "source": [
    "ml = MaskedLinear(10, 10)\n",
    "print(\"state dict keys: \", ml.state_dict().keys())\n",
    "print(\"number of state dict elems: \", len(ml.state_dict()))\n",
    "n_params = 0\n",
    "for _ in ml.parameters():\n",
    "    n_params += 1\n",
    "print(\"number of params: \", n_params)"
   ]
  },
  {
   "cell_type": "markdown",
   "id": "b09d72a3",
   "metadata": {
    "slideshow": {
     "slide_type": "slide"
    }
   },
   "source": [
    "## MADE\n",
    "\n",
    "<img src=\"pics/made.png\" width=800 height=600 />"
   ]
  },
  {
   "cell_type": "markdown",
   "id": "expected-string",
   "metadata": {
    "slideshow": {
     "slide_type": "fragment"
    }
   },
   "source": [
    "**Question 1.** What is model's input and output? Consider 2 cases:\n",
    "* binarized MNIST\n",
    "* 2D \"image\" categorical distribution\n",
    "\n",
    "**Question 2.** What loss fuction should we optimize (Consider both cases)? How?\n",
    "\n",
    "**Question 3.** Tensors' shapes?"
   ]
  },
  {
   "cell_type": "markdown",
   "id": "71ea172d",
   "metadata": {
    "slideshow": {
     "slide_type": "slide"
    }
   },
   "source": [
    "### MADE implementation and application"
   ]
  },
  {
   "cell_type": "markdown",
   "id": "d978d153",
   "metadata": {},
   "source": [
    "#### Problem statement\n",
    "\n",
    "We have 2D distribution, each component $j$ sampled from $\\text{Categorical}(\\theta_1^j, \\dots, \\theta_{64}^j)$"
   ]
  },
  {
   "cell_type": "code",
   "execution_count": 10,
   "id": "33569d8d",
   "metadata": {},
   "outputs": [
    {
     "data": {
      "image/png": "[encoded data removed]",
      "text/plain": [
       "<Figure size 720x432 with 2 Axes>"
      ]
     },
     "metadata": {
      "needs_background": "light"
     },
     "output_type": "display_data"
    }
   ],
   "source": [
    "COUNT = 100000\n",
    "BINS = 64\n",
    "\n",
    "image, train_data, test_data = generate_2d_data(COUNT, BINS)\n",
    "plot_2d_data(train_data, test_data, BINS)"
   ]
  },
  {
   "cell_type": "markdown",
   "id": "38cd67c3",
   "metadata": {},
   "source": [
    "#### Libraries"
   ]
  },
  {
   "cell_type": "code",
   "execution_count": 11,
   "id": "979f6984",
   "metadata": {},
   "outputs": [],
   "source": [
    "import torch\n",
    "import torch.optim as optim\n",
    "import torch.utils.data as data\n",
    "import torch.nn as nn\n",
    "import torch.nn.functional as F\n",
    "\n",
    "from torchvision.utils import make_grid"
   ]
  },
  {
   "cell_type": "markdown",
   "id": "48bc8a42",
   "metadata": {},
   "source": [
    "#### MADE implementation"
   ]
  },
  {
   "cell_type": "code",
   "execution_count": 12,
   "id": "3d5040bd",
   "metadata": {},
   "outputs": [],
   "source": [
    "def to_one_hot(labels, d):\n",
    "    assert len(labels.shape) == 2\n",
    "    one_hot = F.one_hot(labels.to(torch.int64), d).float()\n",
    "    return one_hot.view((labels.shape[0], -1)).float()"
   ]
  },
  {
   "cell_type": "code",
   "execution_count": 13,
   "id": "turned-argentina",
   "metadata": {
    "slideshow": {
     "slide_type": "-"
    }
   },
   "outputs": [],
   "source": [
    "class MADE(torch.nn.Module):\n",
    "    \n",
    "    def __init__(self, nin, bins, hidden_sizes):\n",
    "        '''\n",
    "        :Parameters:\n",
    "        nin : int : number of input dimensions\n",
    "        bins : int : categorical bins in each input dimension\n",
    "        hidden_sizes : list : sizes of hidden layers\n",
    "        '''\n",
    "        super().__init__()\n",
    "        \n",
    "        \n",
    "        self.nin = nin # 2\n",
    "        self.nout = nin * bins # 128\n",
    "        self.bins = bins # 64\n",
    "        \n",
    "        self.hidden_sizes = hidden_sizes\n",
    "        # we will use the trivial ordering of input units\n",
    "        self.ordering = np.arange(self.nin)\n",
    "        \n",
    "        \n",
    "        self.net = []\n",
    "        hs = [self.nin * bins] + self.hidden_sizes + [self.nout]\n",
    "        for h0, h1 in zip(hs[:-2], hs[1:-1]):\n",
    "            self.net.extend([\n",
    "                MaskedLinear(h0, h1),\n",
    "                torch.nn.ReLU(),\n",
    "            ])\n",
    "            \n",
    "        \n",
    "        self.net.append(MaskedLinear(hs[-2], hs[-1]))\n",
    "        self.net = torch.nn.Sequential(*self.net)\n",
    "\n",
    "        self.create_mask()  # builds the initial self.m connectivity\n",
    "\n",
    "\n",
    "    def create_mask(self):\n",
    "        \n",
    "        # 1) The ordering of input units from 1 to d (self.ordering).\n",
    "        # 2) Assign the random number k from 1 to d − 1 to each hidden unit. \n",
    "        #    This number gives the maximum number of input units to which the unit can be connected.\n",
    "        # 3) Each hidden unit with number k is connected with the previous layer units \n",
    "        #   which has the number less or equal than k.\n",
    "        # 4) Each output unit with number k is connected with the previous layer units \n",
    "        #    which has the number less than k.\n",
    "\n",
    "        self.assigned_numbers = {}\n",
    "        self.masks = []\n",
    "        L = len(self.hidden_sizes)\n",
    "        \n",
    "        # sample the order of the inputs and the connectivity of all neurons\n",
    "        self.assigned_numbers[-1] = self.ordering\n",
    "        for l in range(L):\n",
    "            self.assigned_numbers[l] = np.random.randint(self.assigned_numbers[l - 1].min(), \n",
    "                                      self.nin - 1, size=self.hidden_sizes[l])\n",
    "            \n",
    "            \n",
    "        # construct the mask matrices\n",
    "        masks = [self.assigned_numbers[l - 1][:, None] <= self.assigned_numbers[l][None, :] for l in range(L)]\n",
    "        masks.append(self.assigned_numbers[L - 1][:, None] < self.assigned_numbers[-1][None, :])\n",
    "\n",
    "        masks[-1] = np.repeat(masks[-1], self.bins, axis=1)  \n",
    "        masks[0] = np.repeat(masks[0], self.bins, axis=0)\n",
    "        \n",
    "        self.masks = masks \n",
    "       \n",
    "\n",
    "        # set the masks in all MaskedLinear layers\n",
    "        layers = [l for l in self.net.modules() if isinstance(l, MaskedLinear)]\n",
    "        for l, m in zip(layers, masks):\n",
    "            l.set_mask(m)\n",
    "\n",
    "    \n",
    "    def visualize_masks(self):\n",
    "        prod = self.masks[0]\n",
    "        for idx, m in enumerate(self.masks):\n",
    "            plt.figure(figsize=(3, 3))\n",
    "            plt.title(f'layer: {idx}')\n",
    "            plt.imshow(m.T, vmin=0, vmax=1, cmap='gray')\n",
    "            plt.show()\n",
    "\n",
    "            if idx > 0:\n",
    "                prod=prod.dot(m)\n",
    "\n",
    "        plt.figure(figsize=(3, 3))\n",
    "        plt.title('prod')\n",
    "        plt.imshow(prod.T, vmin=0, vmax=1, cmap='gray')\n",
    "        plt.show()\n",
    "\n",
    "    \n",
    "    def forward(self, x):\n",
    "        \n",
    "        \"\"\"\n",
    "        :Parameters:\n",
    "        x: torch.Size([BS,2]) : input sample\n",
    "        :Output:\n",
    "        out : torch.Size([BS, bins, 2]) : output \n",
    "        \"\"\"\n",
    "        \n",
    "        assert len(x.size()) == 2\n",
    "        assert x.shape[1] == self.nin\n",
    "        batch_size = x.shape[0]\n",
    "     \n",
    "        # 1) apply one hot encoding to x\n",
    "        # 2) apply the model\n",
    "        # 3) reshape and transpose the output to (batch_size, self.bins, self.nin)\n",
    "        \n",
    "        x = to_one_hot(x, self.bins) \n",
    "        # torch.tensor([B,128])\n",
    "        \n",
    "        logits = self.net(x)\n",
    "        # torch.tensor ([B,128])\n",
    "        \n",
    "        logits = logits.view(batch_size, self.nin, self.bins)\n",
    "        # torch.tensor([B,2,64])\n",
    "        \n",
    "        return logits.permute(0, 2, 1)\n",
    "\n",
    "    \n",
    "    def sample(self, n, device='cpu'):\n",
    "        \"\"\"\n",
    "        :Parameters:\n",
    "        n: int: number of samples\n",
    "        :Output:\n",
    "        out: torch.Size([n, nin])\n",
    "        \"\"\"\n",
    "        # read carefully and understand the sampling process\n",
    "        xs = []\n",
    "        for _ in range(n):\n",
    "            # [BS = 1, nin]\n",
    "            x = torch.randint(0, self.bins, (1, self.nin)).to(device)\n",
    "          \n",
    "            for it in self.ordering:\n",
    "                # logits: [BS = 1, bins, nin]\n",
    "                logits = model(x)\n",
    "                \n",
    "                # probs: [nin, bins]\n",
    "                probs = torch.nn.functional.softmax(logits.squeeze(0), dim=0).T\n",
    "                \n",
    "                # build the distribution \n",
    "                # p(\\hat{x}_{ordering[i + 1]}| \\hat{x}_{ordering[:i + 1]}, \\theta)\n",
    "                distr = torch.distributions.categorical.Categorical(probs[it])\n",
    "                \n",
    "                # sample \\hat{x}_{ordering[i + 1]}\n",
    "                x[0, it] = distr.sample()\n",
    "            xs.append(x)\n",
    "        xs = torch.cat(xs)\n",
    "        return xs.cpu().numpy()"
   ]
  },
  {
   "cell_type": "markdown",
   "id": "9ec7e340",
   "metadata": {},
   "source": [
    "#### Loss function"
   ]
  },
  {
   "cell_type": "code",
   "execution_count": 14,
   "id": "e46bf36c",
   "metadata": {},
   "outputs": [],
   "source": [
    "def get_cross_entropy_loss(model, x):\n",
    "    return F.cross_entropy(model(x), x.long())\n"
   ]
  },
  {
   "cell_type": "markdown",
   "id": "292f8f3d",
   "metadata": {},
   "source": [
    "Discretization of the learned distribution on the grid"
   ]
  },
  {
   "cell_type": "code",
   "execution_count": 15,
   "id": "11b6b96a",
   "metadata": {},
   "outputs": [],
   "source": [
    "def get_distribution(model, device='cpu'):\n",
    "    # x: [bins**2, 2]\n",
    "    x = np.mgrid[0:model.bins, 0:model.bins].reshape(2, model.bins ** 2).T\n",
    "    x = torch.LongTensor(x)\n",
    "    x = x.to(device)  \n",
    "    # log_probs: [bins**2, bins, 2]\n",
    "    log_probs = F.log_softmax(model(x), dim=1)\n",
    "    # distribution: [bins**2, 2]\n",
    "    distribution = torch.gather(log_probs, 1, x.unsqueeze(1)).squeeze(1)\n",
    "    distribution = distribution.sum(dim=1)\n",
    "    return distribution.exp().view(model.bins, model.bins).detach().cpu().numpy()"
   ]
  },
  {
   "cell_type": "markdown",
   "id": "1542ac37",
   "metadata": {},
   "source": [
    "#### Training utilities\n",
    "\n",
    "**Question.** What do `model.train()` and `model.eval()` modes actually mean?"
   ]
  },
  {
   "cell_type": "code",
   "execution_count": 16,
   "id": "a036a72c",
   "metadata": {},
   "outputs": [],
   "source": [
    "def train_epoch(model, train_loader, optimizer, device='cpu'):\n",
    "    model.train()\n",
    "  \n",
    "    train_losses = []\n",
    "    for x in train_loader:\n",
    "        x = x.to(device)\n",
    "        loss = get_cross_entropy_loss(model, x)\n",
    "        optimizer.zero_grad()\n",
    "        loss.backward()\n",
    "        optimizer.step()\n",
    "        train_losses.append(loss.item())\n",
    "    return train_losses\n",
    "\n",
    "\n",
    "def eval_model(model, data_loader, device='cpu'):\n",
    "    model.eval()\n",
    "    total_loss = 0\n",
    "    with torch.no_grad():\n",
    "        for x in data_loader:\n",
    "            x = x.to(device)\n",
    "            loss = get_cross_entropy_loss(model, x)\n",
    "            total_loss += loss * x.shape[0]\n",
    "        avg_loss = total_loss / len(data_loader.dataset)\n",
    "    return avg_loss.item()\n",
    "\n",
    "\n",
    "def train_model(model, train_loader, test_loader, epochs, lr, device='cpu'):\n",
    "#     model.to(device)\n",
    "    optimizer = optim.Adam(model.parameters(), lr=lr)\n",
    "\n",
    "    train_losses = []\n",
    "    test_losses = [eval_model(model, test_loader, device=device)]\n",
    "    for epoch in range(epochs):\n",
    "        model.train()\n",
    "        train_losses.extend(train_epoch(model, train_loader, optimizer, device=device))\n",
    "        test_loss = eval_model(model, test_loader, device=device)\n",
    "        test_losses.append(test_loss)\n",
    "\n",
    "    return train_losses, test_losses\n",
    "\n",
    "def plot_training_curves(train_losses, test_losses):\n",
    "    plt.figure(figsize=(8, 6))\n",
    "    n_epochs = len(test_losses) - 1\n",
    "    x_train = np.linspace(0, n_epochs, len(train_losses))\n",
    "    x_test = np.arange(n_epochs + 1)\n",
    "\n",
    "    plt.plot(x_train, train_losses, label='train loss')\n",
    "    plt.plot(x_test, test_losses, label='test loss')\n",
    "    plt.legend()\n",
    "    plt.title('training curves')\n",
    "    plt.xlabel('Epoch')\n",
    "    plt.ylabel('NLL')\n",
    "\n",
    "def plot_2d_distribution(true_dist, learned_dist):\n",
    "    fig, (ax1, ax2) = plt.subplots(1, 2, figsize=(12, 8))\n",
    "    ax1.imshow(true_dist, cmap='gray')\n",
    "    ax1.set_title('True Distribution')\n",
    "    ax1.axis('off')\n",
    "    ax2.imshow(learned_dist, cmap='gray')\n",
    "    ax2.set_title('Learned Distribution')\n",
    "    ax2.axis('off')"
   ]
  },
  {
   "cell_type": "markdown",
   "id": "a4067247",
   "metadata": {},
   "source": [
    "**Question.** How to reduce `cuda` or `cpu` memory usage given the `batch_size` is fixed? Do we need `retain_graph=True` parameter in `loss.backward(...)` method?"
   ]
  },
  {
   "cell_type": "markdown",
   "id": "ad556680",
   "metadata": {},
   "source": [
    "#### Hyperparameters"
   ]
  },
  {
   "cell_type": "code",
   "execution_count": 39,
   "id": "a7a91f04",
   "metadata": {},
   "outputs": [],
   "source": [
    "HIDDEN_SIZES = [100, 100, 100]\n",
    "device = 'cuda:3'"
   ]
  },
  {
   "cell_type": "markdown",
   "id": "5073fd60",
   "metadata": {
    "slideshow": {
     "slide_type": "-"
    }
   },
   "source": [
    "#### Model creation"
   ]
  },
  {
   "cell_type": "code",
   "execution_count": 40,
   "id": "coral-cleaner",
   "metadata": {},
   "outputs": [
    {
     "data": {
      "image/png": "[encoded data removed]",
      "text/plain": [
       "<Figure size 216x216 with 1 Axes>"
      ]
     },
     "metadata": {
      "needs_background": "light"
     },
     "output_type": "display_data"
    },
    {
     "data": {
      "image/png": "[encoded data removed]",
      "text/plain": [
       "<Figure size 216x216 with 1 Axes>"
      ]
     },
     "metadata": {
      "needs_background": "light"
     },
     "output_type": "display_data"
    },
    {
     "data": {
      "image/png": "[encoded data removed]",
      "text/plain": [
       "<Figure size 216x216 with 1 Axes>"
      ]
     },
     "metadata": {
      "needs_background": "light"
     },
     "output_type": "display_data"
    },
    {
     "data": {
      "image/png": "[encoded data removed]",
      "text/plain": [
       "<Figure size 216x216 with 1 Axes>"
      ]
     },
     "metadata": {
      "needs_background": "light"
     },
     "output_type": "display_data"
    },
    {
     "data": {
      "image/png": "[encoded data removed]",
      "text/plain": [
       "<Figure size 216x216 with 1 Axes>"
      ]
     },
     "metadata": {
      "needs_background": "light"
     },
     "output_type": "display_data"
    }
   ],
   "source": [
    "HIDDEN_SIZES = [100, 100, 100]\n",
    "\n",
    "np.random.seed(36)\n",
    "model = MADE(2, BINS, HIDDEN_SIZES).to(device)\n",
    "model.visualize_masks()"
   ]
  },
  {
   "cell_type": "markdown",
   "id": "c8b1f62a",
   "metadata": {},
   "source": [
    "#### Training launch"
   ]
  },
  {
   "cell_type": "code",
   "execution_count": 41,
   "id": "50db8022",
   "metadata": {},
   "outputs": [],
   "source": [
    "# you have to choose these parameters by yourself\n",
    "BATCH_SIZE = 256\n",
    "EPOCHS = 20\n",
    "LR = 0.01\n",
    "\n",
    "train_loader = data.DataLoader(train_data, batch_size=BATCH_SIZE, shuffle=True)\n",
    "test_loader = data.DataLoader(test_data, batch_size=BATCH_SIZE)\n",
    "train_losses, test_losses = train_model(model, train_loader, test_loader, epochs=EPOCHS, lr=LR, device=device)\n",
    "\n",
    "# assert test_losses[-1] < 4.0"
   ]
  },
  {
   "cell_type": "markdown",
   "id": "dac10df8",
   "metadata": {},
   "source": [
    "#### Results"
   ]
  },
  {
   "cell_type": "code",
   "execution_count": 42,
   "id": "1d05a39d",
   "metadata": {},
   "outputs": [
    {
     "data": {
      "image/png": "[encoded data removed]",
      "text/plain": [
       "<Figure size 576x432 with 1 Axes>"
      ]
     },
     "metadata": {
      "needs_background": "light"
     },
     "output_type": "display_data"
    },
    {
     "data": {
      "image/png": "[encoded data removed]",
      "text/plain": [
       "<Figure size 864x576 with 2 Axes>"
      ]
     },
     "metadata": {
      "needs_background": "light"
     },
     "output_type": "display_data"
    }
   ],
   "source": [
    "distribution = get_distribution(model, device)\n",
    "# assert distribution.shape == (BINS, BINS)\n",
    "\n",
    "plot_training_curves(train_losses, test_losses)\n",
    "plot_2d_distribution(image, distribution)"
   ]
  },
  {
   "cell_type": "code",
   "execution_count": 43,
   "id": "26d88615",
   "metadata": {},
   "outputs": [
    {
     "data": {
      "image/png": "[encoded data removed]",
      "text/plain": [
       "<Figure size 720x432 with 2 Axes>"
      ]
     },
     "metadata": {
      "needs_background": "light"
     },
     "output_type": "display_data"
    }
   ],
   "source": [
    "model_sample = model.sample(50000, device)\n",
    "plot_2d_data(model_sample, model_sample, BINS)"
   ]
  },
  {
   "cell_type": "markdown",
   "id": "e01102cb",
   "metadata": {
    "slideshow": {
     "slide_type": "slide"
    }
   },
   "source": [
    "## Pixel CNN\n",
    "\n",
    "the original article: [link](https://arxiv.org/pdf/1601.06759.pdf)"
   ]
  },
  {
   "cell_type": "markdown",
   "id": "a453978d",
   "metadata": {
    "slideshow": {
     "slide_type": "fragment"
    }
   },
   "source": [
    "### Autoregressive models for binarized images\n",
    "\n",
    "Let $\\boldsymbol{x} \\sim p(\\boldsymbol{x} | \\theta) \\, , \\, \\boldsymbol{x} \\in \\mathbf{R}^{n \\times n}$\n",
    "\n",
    "**Likelihood factorization**: $\\log p(\\boldsymbol{x} | \\theta) = \\sum\\limits_{j = 1}^{n \\times n} \\log p\\left( x_i | \\boldsymbol{x}_{1:j-1} , \\theta\\right)$\n",
    "\n",
    "**Sampling procedure**:\n",
    "\n",
    "* Sample $\\hat{x}_1 \\sim p(x_1 | \\theta)$\n",
    "\n",
    "* Sample $\\hat{x}_2 \\sim p(x_2 | \\hat{x}_1 \\theta)$\n",
    "\n",
    "* ...\n",
    "\n",
    "* Sample $\\hat{x}_{n^2} \\sim p(x_{n^2} | \\hat{\\boldsymbol{x}}_{1:n^2-1} , \\theta)$"
   ]
  },
  {
   "cell_type": "markdown",
   "id": "4a4514d5",
   "metadata": {
    "slideshow": {
     "slide_type": "fragment"
    }
   },
   "source": [
    "#### Ordering\n",
    "\n",
    "<center><img src=\"pics/pixelCNN_ordering.png\" width=400 /></center>"
   ]
  },
  {
   "cell_type": "markdown",
   "id": "144b8a90",
   "metadata": {
    "slideshow": {
     "slide_type": "fragment"
    }
   },
   "source": [
    "#### Masked convolutions\n",
    "\n",
    "* Masked convolution of **type A**:\n",
    "\n",
    "<center><img src=\"pics/pixelCNN_convolution.png\" width=600 /></center>\n",
    "\n",
    "* Masked convolution of **type B** allows self-conditioning"
   ]
  },
  {
   "cell_type": "markdown",
   "id": "49ca6b3a",
   "metadata": {
    "slideshow": {
     "slide_type": "fragment"
    }
   },
   "source": [
    "**Question 1.**: Where can we apply convolutions of **type B** to preserve autoregressive property?\n",
    "\n",
    "**Question 2.**: In your homework you will be asked to train CharCNN model on binarized MNIST dataset. \n",
    "\n",
    "* Input tensor shapes?\n",
    "\n",
    "* Output tensor shapes? Loss function?"
   ]
  },
  {
   "cell_type": "markdown",
   "id": "67fb6840",
   "metadata": {
    "slideshow": {
     "slide_type": "slide"
    }
   },
   "source": [
    "### PixelCNN implementation details\n",
    "\n",
    "* **PixelCNN** is fully convolutional NN, which applies masked convolution of **type A** to the input layer and convolutions of **type B** to the hidden layers. \n",
    "\n",
    "* It preserves spacial dimensions of a processed tensor\n",
    "\n",
    "**Question 1.** How to preserve spatial dimensionality of a processed tensor?\n",
    "\n",
    "**Question 2.** How to sample from the trained model?"
   ]
  },
  {
   "cell_type": "markdown",
   "id": "54bc1916",
   "metadata": {
    "slideshow": {
     "slide_type": "slide"
    }
   },
   "source": [
    "### PixelCNN for RGB images\n",
    "\n",
    "$p\\left(x_i | \\boldsymbol{x}_{1:i-1}, \\theta \\right) = p\\left(x_{i, R} | \\boldsymbol{x}_{1:i-1}, \\theta \\right) p\\left(x_{i, G} | x_{i, R}, \\boldsymbol{x}_{1:i-1}, \\theta\\right) p\\left(x_{i, B} | x_{i, R}, x_{i, G}, \\boldsymbol{x}_{1:i-1}, \\theta\\right)$"
   ]
  },
  {
   "cell_type": "markdown",
   "id": "a44fab24",
   "metadata": {
    "slideshow": {
     "slide_type": "fragment"
    }
   },
   "source": [
    "<center><img src=\"pics/pixelCNN_RGB.png\" width=500 /></center>"
   ]
  },
  {
   "cell_type": "markdown",
   "id": "90f6333f",
   "metadata": {
    "slideshow": {
     "slide_type": "fragment"
    }
   },
   "source": [
    "**Question 1.** Input and output tensor shapes? Loss function?\n",
    "\n",
    "**Question 2.** How to preserve `RGB` structure through the convolutions? How do convolutions look like?"
   ]
  },
  {
   "cell_type": "markdown",
   "id": "75e71ee6",
   "metadata": {
    "slideshow": {
     "slide_type": "slide"
    }
   },
   "source": [
    "## Bayesian framework"
   ]
  },
  {
   "cell_type": "code",
   "execution_count": null,
   "id": "2086ff55",
   "metadata": {},
   "outputs": [],
   "source": []
  }
 ],
 "metadata": {
  "celltoolbar": "Необработанный формат ячейки",
  "kernelspec": {
   "display_name": "Python 3 (ipykernel)",
   "language": "python",
   "name": "python3"
  },
  "language_info": {
   "codemirror_mode": {
    "name": "ipython",
    "version": 3
   },
   "file_extension": ".py",
   "mimetype": "text/x-python",
   "name": "python",
   "nbconvert_exporter": "python",
   "pygments_lexer": "ipython3",
   "version": "3.8.12"
  },
  "rise": {
   "theme": "sky"
  },
  "toc-autonumbering": false,
  "toc-showcode": false
 },
 "nbformat": 4,
 "nbformat_minor": 5
}
