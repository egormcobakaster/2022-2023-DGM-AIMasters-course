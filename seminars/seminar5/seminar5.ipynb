{
 "cells": [
  {
   "cell_type": "code",
   "execution_count": 30,
   "id": "union-alert",
   "metadata": {
    "slideshow": {
     "slide_type": "skip"
    }
   },
   "outputs": [],
   "source": [
    "import numpy as np\n",
    "import matplotlib.pyplot as plt\n",
    "from PIL import Image\n",
    "import io\n",
    "import itertools\n",
    "import time\n",
    "from IPython.display import clear_output\n",
    "\n",
    "from sklearn.decomposition import PCA\n",
    "import scipy\n",
    "\n",
    "import torch\n",
    "import torch.optim as optim\n",
    "import torch.nn as nn\n",
    "import torch.utils.data as data\n",
    "import torch.nn.functional as F\n",
    "import torch.distributions as TD\n",
    "from torchvision.utils import make_grid\n",
    "from torchvision import transforms\n",
    "\n",
    "import pickle\n",
    "import os\n",
    "import sys\n",
    "from tqdm.notebook import tqdm\n",
    "from scipy.stats import multivariate_normal\n",
    "\n",
    "\n",
    "# for IWAE\n",
    "from scipy.stats import multivariate_normal\n",
    "from matplotlib import ticker, cm\n",
    "from matplotlib import gridspec\n",
    "from scipy.special import logsumexp\n",
    "# end for IWAE\n",
    "\n",
    "if torch.cuda.is_available():\n",
    "    DEVICE = 'cuda'\n",
    "    GPU_DEVICE = 2\n",
    "    torch.cuda.set_device(GPU_DEVICE)\n",
    "else:\n",
    "    DEVICE='cpu'\n",
    "# DEVICE='cpu'\n",
    "\n",
    "import warnings\n",
    "warnings.filterwarnings('ignore')\n",
    "\n",
    "# <span style=\"color:red\"> No! </span>\n",
    "\n",
    "# dgm_utils\n",
    "from dgm_utils import train_model, plot_training_curves, show_samples\n",
    "from dgm_utils import visualize_2d_samples, visualize_2d_densities, visualize_2d_data"
   ]
  },
  {
   "cell_type": "markdown",
   "id": "amber-humidity",
   "metadata": {
    "slideshow": {
     "slide_type": "slide"
    }
   },
   "source": [
    "# <center>Deep Generative Models</center>\n",
    "## <center>Seminar 5</center>\n",
    "\n",
    "<center><img src=\"pics/AIMastersLogo.png\" width=600 /></center>\n",
    "<center>10.10.2022</center>\n"
   ]
  },
  {
   "cell_type": "markdown",
   "id": "883dc37a",
   "metadata": {
    "slideshow": {
     "slide_type": "slide"
    }
   },
   "source": [
    "## Plan\n",
    "\n",
    "0. Missing topics of GMM via EM\n",
    "\n",
    "1. VAE \n",
    "    \n",
    "    - Your questions about VAE\n",
    "\n",
    "2. IWAE\n",
    "    \n",
    "    - Variational distributions complication interpretation\n",
    "    "
   ]
  },
  {
   "cell_type": "markdown",
   "id": "69c1fa0c",
   "metadata": {
    "slideshow": {
     "slide_type": "slide"
    }
   },
   "source": [
    "### Missing topics of GMM via EM"
   ]
  },
  {
   "cell_type": "markdown",
   "id": "developing-assurance",
   "metadata": {
    "slideshow": {
     "slide_type": "slide"
    }
   },
   "source": [
    "## VAE"
   ]
  },
  {
   "cell_type": "markdown",
   "id": "primary-tension",
   "metadata": {
    "slideshow": {
     "slide_type": "fragment"
    }
   },
   "source": [
    "<img src=\"pics/vae-gaussian.png\" width=800 height=800 />"
   ]
  },
  {
   "cell_type": "markdown",
   "id": "completed-disney",
   "metadata": {
    "slideshow": {
     "slide_type": "-"
    }
   },
   "source": [
    "$x_1, \\dots x_n$ is samples from unknown distribution $p(x)$\n",
    "\n",
    "$$L(q, \\theta) = \\mathbb{E}_{z_1, \\dots z_N \\sim q(\\boldsymbol{z}| \\boldsymbol{x}, \\phi)} \\ln p(x_1, \\dots x_N|\\boldsymbol{z}, \\theta) - KL(q(z_1, \\dots, z_N| \\boldsymbol{x}, \\phi)||p(z_1, \\dots , z_N))$$"
   ]
  },
  {
   "cell_type": "markdown",
   "id": "f4dbb831",
   "metadata": {
    "slideshow": {
     "slide_type": "fragment"
    }
   },
   "source": [
    "In the questions below consider 2 cases:\n",
    "\n",
    "* $2D$ data\n",
    "* Images data"
   ]
  },
  {
   "cell_type": "markdown",
   "id": "e2a8f286",
   "metadata": {
    "slideshow": {
     "slide_type": "slide"
    }
   },
   "source": [
    "**Question 1.** How to model VAE encoder $q(\\boldsymbol{z} | \\boldsymbol{x}, \\phi)$? What does the encoder take as **input**? What is the **output** of the encoder?\n",
    "\n",
    "<img src=\"pics/vae-gaussian.png\" width=800 />"
   ]
  },
  {
   "cell_type": "markdown",
   "id": "0385feb7",
   "metadata": {
    "slideshow": {
     "slide_type": "fragment"
    }
   },
   "source": [
    "```python\n",
    "# x : tensor (bs, 2) - first case\n",
    "#   : tensor (bs, 3, w, h) - second case\n",
    "\n",
    "z_stats = VAEEncoder(x) # (bs, 2*z_dim)\n",
    "\n",
    "mu_z = z_stats[:, :z_dim] #(bs, z_dim)\n",
    "log_sigma_z = z_stats[:, z_dim:] # (bs, z_dim)\n",
    "```"
   ]
  },
  {
   "cell_type": "markdown",
   "id": "854ec9ef",
   "metadata": {
    "slideshow": {
     "slide_type": "slide"
    }
   },
   "source": [
    "**Question 2.** How to model VAE decoder $p(\\boldsymbol{x} | \\boldsymbol{z}, \\theta)$? What does the decoder take as **input**? What is the **output** of the decoder?\n",
    "\n",
    "<img src=\"pics/vae-gaussian.png\" width=600 />"
   ]
  },
  {
   "cell_type": "markdown",
   "id": "71600fd5",
   "metadata": {
    "slideshow": {
     "slide_type": "fragment"
    }
   },
   "source": [
    "```python\n",
    "# z : tensor (bs, z_dim)\n",
    "\n",
    "X_stats = VAEDecoder(z) # X : tensor (bs, 2 * 2) - first case\n",
    "                        #   : tensor (bs, 3, w, h ) - second case (predict only mu's!)\n",
    "...\n",
    "\n",
    "if not sample_from_decoder:\n",
    "    return \\mu_X\n",
    "else:\n",
    "    return sample N(\\mu_X, \\sigma_X)\n",
    "```"
   ]
  },
  {
   "cell_type": "markdown",
   "id": "3bb50528",
   "metadata": {
    "slideshow": {
     "slide_type": "slide"
    }
   },
   "source": [
    "**Question 3.** How to model $p(z)$?\n",
    "\n",
    "<img src=\"pics/vae-gaussian.png\" width=600 />"
   ]
  },
  {
   "cell_type": "markdown",
   "id": "914dcba6",
   "metadata": {
    "slideshow": {
     "slide_type": "fragment"
    }
   },
   "source": [
    "$\\mathcal{N}(0, I_{\\text{z_dim}})$"
   ]
  },
  {
   "cell_type": "markdown",
   "id": "f82dec8a",
   "metadata": {
    "slideshow": {
     "slide_type": "slide"
    }
   },
   "source": [
    "**Question 4.** How to sample from VAE?\n",
    "\n",
    "<img src=\"pics/vae-gaussian.png\" width=600 />"
   ]
  },
  {
   "cell_type": "markdown",
   "id": "13084aa7",
   "metadata": {
    "slideshow": {
     "slide_type": "fragment"
    }
   },
   "source": [
    "```python\n",
    "1. z_sample = samples N(0, I_{z_dim}) of shape (bs,) # tensor (bs, z_dim)\n",
    "\n",
    "2. X_stats = VAEDecoder(z_sample) # X : tensor (bs, 2 * 2) - first case\n",
    "                                  #   : tensor (bs, 3, w, h ) - second case (predict only mu's!)\n",
    "...\n",
    "```"
   ]
  },
  {
   "cell_type": "markdown",
   "id": "59678146",
   "metadata": {
    "slideshow": {
     "slide_type": "slide"
    }
   },
   "source": [
    "**Question 5.** \n",
    "\n",
    "1. Which **loss** function are we optimizing?\n",
    "\n",
    "2. What parameters do we optimize?\n",
    "\n",
    "3. How does it relate to the EM algorithm?\n",
    "\n",
    "```python\n",
    "for x in dataloader:\n",
    "    vae_opt.zero_grad()\n",
    "    loss = vae_loss(x) # what is the loss function here???\n",
    "    loss.backward()\n",
    "    vae_opt.step()\n",
    "```"
   ]
  },
  {
   "cell_type": "markdown",
   "id": "6ed12fa6",
   "metadata": {
    "slideshow": {
     "slide_type": "fragment"
    }
   },
   "source": [
    "We have samples $x_1, \\dots x_N$ from unknown distribution $p(x)$.\n",
    "\n",
    "1. Our optimal goal is to maximize **ELBO**:\n",
    "\n",
    "    $$L(\\phi, \\theta) = \\sum\\limits_{n = 1}^{N} \\left(\\mathbb{E}_{z \\sim q(z_n| x_n, \\phi)} \\ln p(x_n|z_n, \\theta) - KL(q(z_n| x_n, \\phi)||p(z_n))\\right)$$\n",
    "    \n",
    "   but we do it in a tricky way:\n",
    "   \n",
    "   * $p(z_n) = \\mathcal{N}(0, I_{\\text{z_dim}})$\n",
    "   \n",
    "   * $q(z_n| x_n, \\phi) = \\mathcal{N}\\big{(}\\mu_z(x_n|\\phi), \\text{diag}\\left( \\sigma^{(1)}_z(x_n| \\phi), \\dots \\sigma^{(\\text{z_dim})}_z(x_n | \\phi)\\right)\\big{)}$\n",
    "   \n",
    "   * $\\Rightarrow$ $KL(q(z_n| x_n, \\phi)||p(z_n))$ has closed-form expression (as a function of $\\mu_z(x_n|\\phi), \\boldsymbol{\\sigma_z}(x_n | \\phi)$)\n",
    "   \n",
    "   * $p(x_n | z_n, \\theta) = $\n",
    "       \n",
    "       * $\\mathcal{N}\\big{(}\\mu_x(z_n|\\theta), \\text{diag}\\left( \\sigma^{(1)}_x(z_n| \\theta), \\dots \\sigma^{(\\text{x_dim})}_x(z_n | \\theta)\\right)\\big{)}$, <span style=\"color:red\"> or </span>\n",
    "       \n",
    "       * $\\mathcal{N}\\big{(}\\mu_x(z_n|\\theta), I_{\\text{x_dim}}\\big{)}$\n",
    "   \n",
    "   * One-sample estimate of $\\mathbb{E}_{z \\sim q(z_n| x_n, \\phi)} \\ln p(x_n|z_n, \\theta)$ : \n",
    "   \n",
    "   $$\\mathbb{E}_{z_n \\sim q(z_n| x_n, \\phi)} \\ln p(x_n|z_n, \\theta) = \\mathbb{E}_{\\epsilon \\sim \\mathcal{N}(0, I_{\\text{z_dim}})} \\ln p\\big{(}x_n \\big{|}\\mu_z(x_n | \\phi) + \\boldsymbol{\\sigma}_z(x_n | \\phi) \\odot \\epsilon, \\theta \\big{)} \\approx\\\\ \\approx \\ln p\\big{(} x_n \\big{|} \\mu_z(x_n | \\phi) + \\boldsymbol{\\sigma}_z(x_n | \\phi) \\odot \\epsilon_n, \\theta\\big{)}\\, , \\, \\epsilon_n \\sim \\mathcal{N}(0, I_{\\text{z_dim}})$$\n",
    "   \n",
    "    **Subquestion 5.1**: How to compute the log-likelihood $\\ln p(x_n | z_n, \\theta)$?\n",
    "    \n",
    "   <span style=\"color:red\"> Final **ELBO** objective (`vae_loss`) </span>: We substitute **ELBO** objective with stochastic estimate of **ELBO** objective scaled by $\\frac{\\text{batch_size}}{N}$:\n",
    "   \n",
    "   $$\n",
    "   \\text{vae_loss} = \\frac{1}{\\text{batch_size}} \\sum\\limits_{i = 1}^{\\text{batch_size}} \\Big{(} - \\ln p\\big{(} x_{b[i]} \\big{|} \\mu_z(x_{b[i]} | \\phi) + \\boldsymbol{\\sigma}_z(x_{b[i]} | \\phi) \\odot \\epsilon_i, \\theta\\big{)} + KL(q(z_{b[i]}| x_{b[i]}, \\phi)||p(z_{b[i]}))\\Big{)} \\approx - \\frac{1}{N} L(\\phi, \\theta)\n",
    "   $$\n",
    " \n",
    " \n",
    "2. We optimize ELBO with respect to both $\\phi$ (decoder parameters) and $\\theta$ (encoder parameters) \n",
    "\n",
    "3. The optimization procedure is actually **Variational EM** algorithm in a joint manner:\n",
    "\n",
    "$$\\phi_{k + 1} = \\phi_{k} + \\eta \\nabla_{\\phi} L(q(\\cdot| \\boldsymbol{X}, \\phi), \\theta_k)|_{\\phi=\\phi_{k}} \\\\\n",
    "\\theta_{k + 1} = \\theta_{k} + \\eta \\nabla_{\\theta} L(q(\\cdot| \\boldsymbol{X}, \\color{red}{\\phi_{k}}), \\theta)|_{\\theta=\\theta_{k}}$$"
   ]
  },
  {
   "cell_type": "markdown",
   "id": "39611960",
   "metadata": {
    "slideshow": {
     "slide_type": "slide"
    }
   },
   "source": [
    "### $\\beta$-annealing of VAE\n",
    "\n",
    "[link1](https://openreview.net/pdf?id=Sy2fzU9gl) to the article\n",
    "\n",
    "$$\\max\\limits_{\\phi, \\theta} L(q(\\cdot| \\boldsymbol{X}, \\phi), \\theta) \\longrightarrow \\begin{array}{l}\\max\\limits_{\\phi, \\theta} E_{z_1, \\dots z_N \\sim q(\\boldsymbol{z} | \\boldsymbol{x})} \\ln p(x_1, \\dots, x_N | \\boldsymbol{z}, \\theta) \\\\ \\text{s.t. } KL\\big{(}q(z_1, \\dots z_N | \\boldsymbol{x}) \\big{|}\\big{|} p(z_1, \\dots z_N)\\big{)} < \\varepsilon \\end{array}$$\n",
    "\n",
    "Objective:\n",
    "\n",
    "$$L(\\phi, \\theta, \\beta) = \\sum\\limits_{n = 1}^{N} \\left(\\mathbb{E}_{z \\sim q(z_n| x_n, \\phi)} \\ln p(x_n|z_n, \\theta) - \\beta KL(q(z_n| x_n, \\phi)||p(z_n))\\right)$$\n",
    "\n",
    "* Setting $\\beta > 1$ at the end of optimization procedure makes the latent codes more disentangled (\"распутанными\") [link1](https://openreview.net/pdf?id=Sy2fzU9gl)\n",
    "\n",
    "* Setting $0 \\leq \\beta \\ll 1$ at the beginning of optimization procedure  helps to eliminate KL vanishing at the beginning of optimization [link2](https://arxiv.org/pdf/1903.10145.pdf)\n",
    "\n",
    "**Question.** Which VAE problem could be relaxed via $\\beta$-annealing?"
   ]
  },
  {
   "cell_type": "markdown",
   "id": "7f5a45ad",
   "metadata": {
    "slideshow": {
     "slide_type": "fragment"
    }
   },
   "source": [
    "**Answer.:** Making $0 \\leq \\beta \\ll 1$ helps to relax **posterior collapse** (independence of $p(x | z, \\theta)$ from $z$)"
   ]
  },
  {
   "cell_type": "markdown",
   "id": "e4ebf5b8",
   "metadata": {
    "slideshow": {
     "slide_type": "slide"
    }
   },
   "source": [
    "### Time for your questions regarding VAE"
   ]
  },
  {
   "cell_type": "markdown",
   "id": "00cd99c5",
   "metadata": {
    "slideshow": {
     "slide_type": "slide"
    }
   },
   "source": [
    "## IWAE"
   ]
  },
  {
   "cell_type": "markdown",
   "id": "d68675f2",
   "metadata": {},
   "source": [
    "Let $x_1, \\dots x_N$ are samples from unknown $p(x)$\n",
    "\n",
    "**VAE** objective:\n",
    "\n",
    "$$\\mathcal{L}(q_{\\phi}, \\theta) = \\sum\\limits_{n = 1}^{N} \\mathbb{E}_{z_n \\sim q(z_n| x_n, \\phi)} \\ln \\frac{p(x_n| z_n, \\theta) p(z_n)}{q(z_n | x_n, \\phi)}$$\n",
    "\n",
    "**IWAE** (Importance weighted autoencoder) objective:\n",
    "\n",
    "$$\\mathcal{L}_K(q_{\\phi}, \\theta) = \\sum\\limits_{n = 1}^{N} \\mathbb{E}_{z_n^{(1)}, \\dots, z_n^{(K)} \\sim q(z_n| x_n, \\phi)} \\ln\\left( \\frac{1}{K} \\sum\\limits_{k = 1}^{K} \\frac{p(x_n| z_n^{(k)}, \\theta) p(z_n^{(k)})}{q(z_n^{(k)} | x_n, \\phi)}\\right)$$"
   ]
  },
  {
   "cell_type": "markdown",
   "id": "701897fc",
   "metadata": {
    "slideshow": {
     "slide_type": "fragment"
    }
   },
   "source": [
    "**Question.** \n",
    "\n",
    "Which VAE problem can be relaxed by substituting $\\mathcal{L}$ with $\\mathcal{L}_K$?"
   ]
  },
  {
   "cell_type": "markdown",
   "id": "bbb8a15e",
   "metadata": {
    "slideshow": {
     "slide_type": "fragment"
    }
   },
   "source": [
    "<center><img src=\"pics/theorem.png\" width=1000 /></center>"
   ]
  },
  {
   "cell_type": "markdown",
   "id": "0a65a09d",
   "metadata": {
    "slideshow": {
     "slide_type": "fragment"
    }
   },
   "source": [
    "**Question.**: \n",
    "\n",
    "Which $q^*(z_n | x_n, \\phi)$ gives $\\mathcal{L}(q^*(z_n | x_n, \\phi), \\theta) = \\log p(x_n | \\theta)$?"
   ]
  },
  {
   "cell_type": "markdown",
   "id": "1b37820f",
   "metadata": {
    "slideshow": {
     "slide_type": "fragment"
    }
   },
   "source": [
    "<center><img src=\"pics/var_decomp.png\" width=1000 /></center>\n",
    "\n",
    "$q^*(z_n | x_n) = p(z_n | x_n, \\theta)$"
   ]
  },
  {
   "cell_type": "markdown",
   "id": "88247e95",
   "metadata": {
    "slideshow": {
     "slide_type": "fragment"
    }
   },
   "source": [
    "**Question.(*)**\n",
    "\n",
    "Can we interpret the maximization of $\\mathcal{L}_K(q, \\theta)$ with respect to $q$ as minimization of:\n",
    "\n",
    "$$KL(q^{\\sharp}(z) || p(z | x, \\theta))$$\n",
    "\n",
    "for some $q^{\\sharp}(x)$?\n",
    "\n",
    "<center><img src=\"pics/var_decomp_L_K.png\" width=1000 /></center>"
   ]
  },
  {
   "cell_type": "markdown",
   "id": "75bc1081",
   "metadata": {
    "slideshow": {
     "slide_type": "slide"
    }
   },
   "source": [
    "**Question.(*)** \n",
    "\n",
    "Which $q^{\\sharp}(z_n|x_n, \\phi)$, $q^{\\sharp} = q^{\\sharp}(q)$ gives $\\mathcal{L}(q^{\\sharp}, \\theta) = \\mathcal{L}_{K}(q, \\theta)$?"
   ]
  },
  {
   "cell_type": "markdown",
   "id": "9030b668",
   "metadata": {
    "slideshow": {
     "slide_type": "fragment"
    }
   },
   "source": [
    "The answer is given in the [link](https://arxiv.org/pdf/1704.02916.pdf)\n",
    "\n",
    "Introduce the following **importance-weighted** distributions:\n",
    "\n",
    "$$\n",
    "\\tilde{q}_{IW}(z_n | x_n, z_n^{(2)}, \\dots z_n^{(K)}) = \\frac{p(x_n, z_n | \\theta)}{\\frac{1}{K}\\left( \\frac{p(x_n, z_n| \\theta)}{q(z_n | x_n, \\phi)} + \\sum\\limits_{k = 2}^{K}\\frac{p(x_n, z_n^{(k)}| \\theta)}{q(z_n^{(k)} | x_n, \\phi)}\\right)} \\quad \\text{(unnormalized)}\n",
    "$$\n",
    "\n",
    "$$\n",
    "q_{EW}(z_n | x_n)  = E_{z_n^{(2)}, \\dots z_n^{(K)} \\sim q(z_n | x_n, \\phi)} \\tilde{q}_{IW}(z_n | x_n, z_n^{(2)}, \\dots z_n^{(K)}) \\quad \\text{(normalized)}\n",
    "$$\n",
    "\n",
    "**Theorem**\n",
    "\n",
    "$$\\log p(x_n | \\theta) \\geq \\mathcal{L}(q_{EW}, \\theta) \\geq E_{z_n^{(2)}, \\dots z_n^{(K)} \\sim q(z_n | x_n, \\phi)} \\mathcal{L}(\\tilde{q}_{IW}, \\theta) \\color{red}{=} \\mathcal{L}_{K}(q, \\theta) \\geq L(q, \\theta)$$\n",
    "\n",
    "**Conclusion**\n",
    "\n",
    "$$q_{EW}(z_n | x_n) \\rightarrow p(z_n | x_n, \\theta) \\text{ pointwise as } K \\rightarrow \\infty$$"
   ]
  },
  {
   "cell_type": "markdown",
   "id": "934fd4f7",
   "metadata": {
    "slideshow": {
     "slide_type": "fragment"
    }
   },
   "source": [
    "<center><img src=\"pics/q_EW.png\" width=1000 /></center>"
   ]
  },
  {
   "cell_type": "markdown",
   "id": "4ece37c3",
   "metadata": {
    "slideshow": {
     "slide_type": "fragment"
    }
   },
   "source": [
    "### **IWAE** interpretation\n",
    "\n",
    "**IWAE** model could be interpreted as **VAE** model with more complicated $q(z|x)$ distribution"
   ]
  },
  {
   "cell_type": "markdown",
   "id": "4841c249",
   "metadata": {
    "slideshow": {
     "slide_type": "slide"
    }
   },
   "source": [
    "### $q_{EW}$ convergence illustration\n",
    "\n",
    "In what follows we set $p(x | z) = \\delta(x - z)$ (i.e. we assume $x$ and $z$ are identical)\n",
    "\n",
    "* $p(z)$ is true latent distribution, mixture of gaussians\n",
    "\n",
    "* $q(z)$ is a fixed distribution, gaussian"
   ]
  },
  {
   "cell_type": "code",
   "execution_count": 6,
   "id": "d21b4c01",
   "metadata": {},
   "outputs": [],
   "source": [
    "# Real p(z) distribution\n",
    "mixture = [multivariate_normal(mean=3*np.array([0, 1]), cov=2*np.eye(2)), \n",
    "           multivariate_normal(mean=-1.5*np.ones(2), cov=0.75*np.eye(2)), \n",
    "           multivariate_normal(mean=1.5*np.ones(2), cov=np.eye(2)), \n",
    "           multivariate_normal(mean=np.zeros(2), cov=np.eye(2)), \n",
    "           multivariate_normal(mean=3*np.array([0, 1]), cov=np.eye(2))]\n",
    "p_z_logpdf = lambda x: np.log(np.mean(np.array([mix.pdf(x) for mix in mixture]), axis = 0))\n",
    "\n",
    "# proposed q(z) distribution\n",
    "q_z = multivariate_normal(mean=np.zeros(2), cov=np.eye(2))"
   ]
  },
  {
   "cell_type": "markdown",
   "id": "ad8890f3",
   "metadata": {},
   "source": [
    "pdf of $q_{EW}$ estimator"
   ]
  },
  {
   "cell_type": "code",
   "execution_count": 10,
   "id": "ce14b7db",
   "metadata": {},
   "outputs": [],
   "source": [
    "def q_EW(z, K=10, latent_dim=2, q_z=None, p_z_logpdf=None, n_sample=20):\n",
    "    \"\"\"\n",
    "    Return density probability for z from q_IW.\n",
    "    Args:\n",
    "        z: numpy.array - the matrix of shape 1 x latent_dim.\n",
    "        K: int - scalar, the number of samples in Importance Sampling.\n",
    "        latent_dim: - the space dimensional.\n",
    "        q_z: <class> - the class of approximated distribution from normal.\n",
    "            It's need to have method rvs for generate samples.\n",
    "            It's need to have method logpdf for generate log of density function.\n",
    "        p_z_logpdf: <function> - the function witch return real density probability of z.\n",
    "    Returns:\n",
    "        q_IW: numpy.array - the scalar. The density probability for z from q_IW\n",
    "    \"\"\"\n",
    "    proba = 0.\n",
    "    for s in range(n_sample):\n",
    "        z_latent = q_z.rvs(K).reshape([-1, latent_dim])\n",
    "        z_latent[0] = z\n",
    "\n",
    "        exponent = np.array([p_z_logpdf(z_latent)]).reshape(\n",
    "            [-1]) - np.array([q_z.logpdf(z_latent)]).reshape([-1])\n",
    "\n",
    "        expectation = logsumexp(exponent) - np.log(K)\n",
    "\n",
    "        proba += np.exp(np.array([p_z_logpdf(z_latent)]).reshape([-1]) - expectation)\n",
    "    return proba[0] / float(n_sample)"
   ]
  },
  {
   "cell_type": "code",
   "execution_count": 11,
   "id": "0b469c47",
   "metadata": {},
   "outputs": [
    {
     "data": {
      "application/vnd.jupyter.widget-view+json": {
       "model_id": "6f685e8126fc445a8d4a30e13b4269a7",
       "version_major": 2,
       "version_minor": 0
      },
      "text/plain": [
       "  0%|          | 0/7 [00:00<?, ?it/s]"
      ]
     },
     "metadata": {},
     "output_type": "display_data"
    }
   ],
   "source": [
    "images_size = (100, 100)\n",
    "list_of_K = [1, 10, 30, 60, 100, 150, 200]\n",
    "list_of_image = []\n",
    "\n",
    "x = np.linspace(-5, 5, images_size[0])\n",
    "y = np.linspace(-4, 6, images_size[1])\n",
    "xx, yy = np.meshgrid(x, y)\n",
    "\n",
    "\n",
    "# Real Posterior\n",
    "probas = np.zeros(xx.shape)\n",
    "for i in range(xx.shape[0]):\n",
    "    for j in range(xx.shape[1]):\n",
    "        z = np.array([xx[i,j], yy[i,j]]).reshape([1, -1])\n",
    "        probas[i, j] = np.exp(p_z_logpdf(z))\n",
    "list_of_image.append(probas)\n",
    "\n",
    "# Approzimated posterior\n",
    "for k in tqdm(list_of_K):\n",
    "    probas = np.zeros(xx.shape)\n",
    "    for i in range(xx.shape[0]):\n",
    "        for j in range(xx.shape[1]):\n",
    "            z = np.array([xx[i,j], yy[i,j]]).reshape([1, -1])\n",
    "            probas[i, j] = q_EW(z, K=k, q_z=q_z, p_z_logpdf=p_z_logpdf)\n",
    "    list_of_image.append(probas)"
   ]
  },
  {
   "cell_type": "markdown",
   "id": "31f918ef",
   "metadata": {},
   "source": [
    "Convergence to the true posterior distribution $p(z)$"
   ]
  },
  {
   "cell_type": "code",
   "execution_count": 12,
   "id": "8ebf226b",
   "metadata": {},
   "outputs": [
    {
     "data": {
      "image/png": "[encoded data removed]",
      "text/plain": [
       "<Figure size 1440x720 with 8 Axes>"
      ]
     },
     "metadata": {
      "needs_background": "light"
     },
     "output_type": "display_data"
    }
   ],
   "source": [
    "num_row = 2\n",
    "num_col = 4\n",
    "\n",
    "plt.rcParams['figure.figsize'] = (num_col*5.0, num_row*5.0)\n",
    "\n",
    "fig = plt.figure()\n",
    "gs = gridspec.GridSpec(num_row, num_col)\n",
    "ax = []\n",
    "for i in range(gs.get_geometry()[0]):\n",
    "    for j in range(gs.get_geometry()[1]):\n",
    "        ax.append(fig.add_subplot(gs[i, j]))\n",
    "    \n",
    "for i, image in enumerate(list_of_image):\n",
    "    ax[i].contourf(image, cmap=cm.PuBu_r)\n",
    "    if i == 0:\n",
    "        ax[i].set_title('True posterior', y=-0.2)\n",
    "    else:\n",
    "        ax[i].set_title('Importance Sampling: k={}'.format(list_of_K[i-1]), y=-0.2)\n",
    "\n",
    "plt.subplots_adjust(wspace=0.25, hspace=0.35)\n",
    "        \n",
    "plt.show()"
   ]
  }
 ],
 "metadata": {
  "celltoolbar": "Слайд-шоу",
  "kernelspec": {
   "display_name": "Python 3 (ipykernel)",
   "language": "python",
   "name": "python3"
  },
  "language_info": {
   "codemirror_mode": {
    "name": "ipython",
    "version": 3
   },
   "file_extension": ".py",
   "mimetype": "text/x-python",
   "name": "python",
   "nbconvert_exporter": "python",
   "pygments_lexer": "ipython3",
   "version": "3.8.12"
  },
  "rise": {
   "theme": "sky"
  },
  "toc-autonumbering": false,
  "toc-showcode": false
 },
 "nbformat": 4,
 "nbformat_minor": 5
}
