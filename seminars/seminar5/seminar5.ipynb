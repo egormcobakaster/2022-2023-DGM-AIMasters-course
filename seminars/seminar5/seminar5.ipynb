{
 "cells": [
  {
   "cell_type": "code",
   "execution_count": 1,
   "id": "union-alert",
   "metadata": {
    "slideshow": {
     "slide_type": "skip"
    }
   },
   "outputs": [],
   "source": [
    "import numpy as np\n",
    "import matplotlib.pyplot as plt\n",
    "from PIL import Image\n",
    "import io\n",
    "import itertools\n",
    "import time\n",
    "from IPython.display import clear_output\n",
    "\n",
    "from sklearn.decomposition import PCA\n",
    "import scipy\n",
    "\n",
    "import torch\n",
    "import torch.optim as optim\n",
    "import torch.nn as nn\n",
    "import torch.utils.data as data\n",
    "import torch.nn.functional as F\n",
    "import torch.distributions as TD\n",
    "from torchvision.utils import make_grid\n",
    "from torchvision import transforms\n",
    "\n",
    "import pickle\n",
    "import os\n",
    "import sys\n",
    "from tqdm.notebook import tqdm\n",
    "from scipy.stats import multivariate_normal\n",
    "\n",
    "if torch.cuda.is_available():\n",
    "    DEVICE = 'cuda'\n",
    "    GPU_DEVICE = 2\n",
    "    torch.cuda.set_device(GPU_DEVICE)\n",
    "else:\n",
    "    DEVICE='cpu'\n",
    "# DEVICE='cpu'\n",
    "\n",
    "import warnings\n",
    "warnings.filterwarnings('ignore')\n",
    "\n",
    "# <span style=\"color:red\"> No! </span>"
   ]
  },
  {
   "cell_type": "markdown",
   "id": "amber-humidity",
   "metadata": {
    "slideshow": {
     "slide_type": "slide"
    }
   },
   "source": [
    "# <center>Deep Generative Models</center>\n",
    "## <center>Seminar 5</center>\n",
    "\n",
    "<center><img src=\"pics/AIMastersLogo.png\" width=600 /></center>\n",
    "<center>10.10.2022</center>\n"
   ]
  },
  {
   "cell_type": "markdown",
   "id": "883dc37a",
   "metadata": {
    "slideshow": {
     "slide_type": "slide"
    }
   },
   "source": [
    "## Plan\n",
    "\n",
    "0. Missing topics of GMM via EM\n",
    "\n",
    "1. VAE \n",
    "    \n",
    "    - Your questions about VAE\n",
    "    "
   ]
  },
  {
   "cell_type": "markdown",
   "id": "93691f88",
   "metadata": {
    "slideshow": {
     "slide_type": "slide"
    }
   },
   "source": [
    "### Missing topics of GMM via EM"
   ]
  },
  {
   "cell_type": "markdown",
   "id": "developing-assurance",
   "metadata": {
    "slideshow": {
     "slide_type": "slide"
    }
   },
   "source": [
    "## VAE"
   ]
  },
  {
   "cell_type": "markdown",
   "id": "primary-tension",
   "metadata": {
    "slideshow": {
     "slide_type": "fragment"
    }
   },
   "source": [
    "<img src=\"pics/vae-gaussian.png\" width=800 height=800 />"
   ]
  },
  {
   "cell_type": "markdown",
   "id": "completed-disney",
   "metadata": {
    "slideshow": {
     "slide_type": "-"
    }
   },
   "source": [
    "$L(q, \\theta) = \\mathbb{E}_{z \\sim q(z| x, \\phi)} \\ln p(x|z, \\theta) - KL(q(z| x, \\phi)||p(z))$"
   ]
  },
  {
   "cell_type": "markdown",
   "id": "8fa0c3c0",
   "metadata": {
    "slideshow": {
     "slide_type": "fragment"
    }
   },
   "source": [
    "In the questions below consider 2 cases:\n",
    "\n",
    "* $2D$ data\n",
    "* Images data"
   ]
  },
  {
   "cell_type": "markdown",
   "id": "ba225a83",
   "metadata": {
    "slideshow": {
     "slide_type": "slide"
    }
   },
   "source": [
    "**Question 1.** How to model VAE encoder $q(\\boldsymbol{z} | \\boldsymbol{x}, \\phi)$? What does the encoder take as **input**? What is the **output** of the encoder?\n",
    "\n",
    "<img src=\"pics/vae-gaussian.png\" width=600 />"
   ]
  },
  {
   "cell_type": "markdown",
   "id": "c49d6c91",
   "metadata": {
    "slideshow": {
     "slide_type": "fragment"
    }
   },
   "source": [
    "```python\n",
    "# x : tensor (bs, 2) - first case\n",
    "#   : tensor (bs, 3, w, h) - second case\n",
    "\n",
    "z_stats = VAEEncoder(x) # (bs, 2*z_dim)\n",
    "\n",
    "mu_z = z_stats[:, :z_dim] #(bs, z_dim)\n",
    "log_sigma_z = z_stats[:, z_dim:] # (bs, z_dim)\n",
    "```"
   ]
  },
  {
   "cell_type": "markdown",
   "id": "27110302",
   "metadata": {
    "slideshow": {
     "slide_type": "slide"
    }
   },
   "source": [
    "**Question 2.** How to model VAE decoder $p(\\boldsymbol{x} | \\boldsymbol{z}, \\theta)$? What does the decoder take as **input**? What is the **output** of the decoder?\n",
    "\n",
    "<img src=\"pics/vae-gaussian.png\" width=600 />"
   ]
  },
  {
   "cell_type": "markdown",
   "id": "ad9680ad",
   "metadata": {
    "slideshow": {
     "slide_type": "fragment"
    }
   },
   "source": [
    "```python\n",
    "# z : tensor (bs, z_dim)\n",
    "\n",
    "X_stats = VAEDecoder(z) # X : tensor (bs, 2 * 2) - first case\n",
    "                        #   : tensor (bs, 3, w, h ) - second case (predict only mu's!)\n",
    "...\n",
    "\n",
    "if not sample_from_decoder:\n",
    "    return \\mu_X\n",
    "else:\n",
    "    return sample N(\\mu_X, \\sigma_X)\n",
    "```"
   ]
  },
  {
   "cell_type": "markdown",
   "id": "b25199c1",
   "metadata": {
    "slideshow": {
     "slide_type": "slide"
    }
   },
   "source": [
    "**Question 3.** How to model $p(z)$?\n",
    "\n",
    "<img src=\"pics/vae-gaussian.png\" width=600 />"
   ]
  },
  {
   "cell_type": "markdown",
   "id": "cc88baad",
   "metadata": {
    "slideshow": {
     "slide_type": "fragment"
    }
   },
   "source": [
    "$\\mathcal{N}(0, I_{\\text{z_dim}})$"
   ]
  },
  {
   "cell_type": "markdown",
   "id": "e25e57c2",
   "metadata": {
    "slideshow": {
     "slide_type": "slide"
    }
   },
   "source": [
    "**Question 4.** How to sample from VAE?\n",
    "\n",
    "<img src=\"pics/vae-gaussian.png\" width=600 />"
   ]
  },
  {
   "cell_type": "markdown",
   "id": "2574bf42",
   "metadata": {
    "slideshow": {
     "slide_type": "fragment"
    }
   },
   "source": [
    "```python\n",
    "1. z_sample = samples N(0, I_{z_dim}) of shape (bs,) # tensor (bs, z_dim)\n",
    "\n",
    "2. X_stats = VAEDecoder(z_sample) # X : tensor (bs, 2 * 2) - first case\n",
    "                                  #   : tensor (bs, 3, w, h ) - second case (predict only mu's!)\n",
    "...\n",
    "```"
   ]
  },
  {
   "cell_type": "markdown",
   "id": "3bbeabc3",
   "metadata": {
    "slideshow": {
     "slide_type": "slide"
    }
   },
   "source": [
    "**Question 5.** \n",
    "\n",
    "1. Which **loss** function are we optimizing?\n",
    "\n",
    "2. What parameters do we optimize?\n",
    "\n",
    "3. How does it relate to the EM algorithm?\n",
    "\n",
    "```python\n",
    "for x in dataloader:\n",
    "    vae_opt.zero_grad()\n",
    "    loss = vae_loss(x) # what is the loss function here???\n",
    "    loss.backward()\n",
    "    vae_opt.step()\n",
    "```"
   ]
  },
  {
   "cell_type": "markdown",
   "id": "5303cc23",
   "metadata": {
    "slideshow": {
     "slide_type": "fragment"
    }
   },
   "source": [
    "1. We optimize **ELBO**:\n",
    "\n",
    "    $$L(\\phi, \\theta) = \\mathbb{E}_{z \\sim q(z| x, \\phi)} \\ln p(x|z, \\theta) - KL(q(z| x, \\phi)||p(z))$$\n",
    "    \n",
    "   but we do it in a tricky way:\n",
    "   \n",
    "   * $p(z) = \\mathcal{N}(0, I_{\\text{z_dim}})$\n",
    "   \n",
    "   * $q(z| x, \\phi) = \\mathcal{N}\\big{(}\\mu_z(x|\\phi), \\text{diag}\\left( \\sigma^{(1)}_z(x| \\phi), \\dots \\sigma^{(\\text{z_dim})}_z(x | \\phi)\\right)\\big{)}$\n",
    "   \n",
    "   * $\\Rightarrow$ $KL(q(z| x, \\phi)||p(z))$ has closed-form expression (as a function of $\\mu_z(x|\\phi), \\boldsymbol{\\sigma_z}(x | \\phi)$)\n",
    "   \n",
    "   * $\\mathbb{E}_{z \\sim q(z| x, \\phi)} \\ln p(x|z, \\theta) = \\mathbb{E}_{\\epsilon \\sim \\mathcal{N}(0, I_{\\text{z_dim}})} \\ln p(x|\\mu_z(x | \\phi)) + \\boldsymbol{\\sigma}_z(x | \\phi) \\odot \\epsilon, \\theta) \\approx \\sum\\limits_{i = 1}^{\\text{batch_size}} \\ln p(X_i|\\mu_z(X_i | \\phi)) + \\boldsymbol{\\sigma}_z(X_i | \\phi) \\odot \\epsilon_i, \\theta)$\n",
    "   \n",
    "   **Subquestion 5.1**: How to compute the log-likelihood $\\ln p(X_i|\\mu_z(Xi | \\phi))$?\n",
    " \n",
    " \n",
    "2. We optimize ELBO with respect to both $\\phi$ (decoder parameters) and $\\theta$ (encoder parameters) \n",
    "\n",
    "3. The optimization procedure is actually **Variational EM** algorithm in a joint manner:\n",
    "\n",
    "$$\\phi_{k + 1} = \\phi_{k} + \\eta \\nabla_{\\phi} L(q(\\cdot| \\boldsymbol{X}, \\phi), \\theta_k)|_{\\phi=\\phi_{k}} \\\\\n",
    "\\theta_{k + 1} = \\theta_{k} + \\eta \\nabla_{\\theta} L(q(\\cdot| \\boldsymbol{X}, \\color{red}{\\phi_{k}}), \\theta)|_{\\theta=\\theta_{k}}$$"
   ]
  },
  {
   "cell_type": "markdown",
   "id": "83fbb414",
   "metadata": {
    "slideshow": {
     "slide_type": "slide"
    }
   },
   "source": [
    "### Time for your questions regarding VAE"
   ]
  },
  {
   "cell_type": "code",
   "execution_count": null,
   "id": "8c372e17",
   "metadata": {},
   "outputs": [],
   "source": []
  },
  {
   "cell_type": "code",
   "execution_count": null,
   "id": "d21b4c01",
   "metadata": {},
   "outputs": [],
   "source": []
  }
 ],
 "metadata": {
  "celltoolbar": "Слайд-шоу",
  "kernelspec": {
   "display_name": "Python 3 (ipykernel)",
   "language": "python",
   "name": "python3"
  },
  "language_info": {
   "codemirror_mode": {
    "name": "ipython",
    "version": 3
   },
   "file_extension": ".py",
   "mimetype": "text/x-python",
   "name": "python",
   "nbconvert_exporter": "python",
   "pygments_lexer": "ipython3",
   "version": "3.8.12"
  },
  "rise": {
   "theme": "sky"
  },
  "toc-autonumbering": false,
  "toc-showcode": false
 },
 "nbformat": 4,
 "nbformat_minor": 5
}
